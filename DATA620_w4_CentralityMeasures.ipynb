{
 "cells": [
  {
   "cell_type": "code",
   "execution_count": 1,
   "id": "2085a9a8-ed53-4bea-8c82-48af18ef8e80",
   "metadata": {},
   "outputs": [],
   "source": [
    "###########################\n",
    "#\n",
    "#  Assignment 4: Centrality Measures\n",
    "#     - \n",
    "#\n",
    "###########################"
   ]
  },
  {
   "cell_type": "code",
   "execution_count": 2,
   "id": "72f6adce-5c56-4ce2-bb91-6159e750ec7f",
   "metadata": {},
   "outputs": [],
   "source": [
    "###########################\n",
    "#\n",
    "#  Packages Used\n",
    "#    - python 3.6.13 \n",
    "#    - networkx 2.1 \n",
    "#    - matplotlib 2.0.2 \n",
    "#    - nltk 3.2.5 \n",
    "#    - numpy 1.13.3 \n",
    "#    - pandas 0.22.0 \n",
    "#    - pygraphviz 1.3 \n",
    "#    - scipy 1.0.1 \n",
    "#\n",
    "###########################"
   ]
  },
  {
   "cell_type": "code",
   "execution_count": 3,
   "id": "33987352-ba3d-42b1-b45f-3ac43aed9441",
   "metadata": {},
   "outputs": [],
   "source": [
    "###########################\n",
    "#\n",
    "#  Import\n",
    "#\n",
    "###########################"
   ]
  },
  {
   "cell_type": "code",
   "execution_count": 7,
   "id": "025adc23-6b34-4f47-a2b9-28f6ad6476d8",
   "metadata": {},
   "outputs": [],
   "source": [
    "import networkx as nx\n",
    "import matplotlib.pyplot as plt\n",
    "from networkx import algorithms \n",
    "import itertools \n",
    "\n",
    "from twitter import *\n",
    "\n"
   ]
  },
  {
   "cell_type": "code",
   "execution_count": 19,
   "id": "aad8c9cb-cfe6-4668-b182-860fa0e324b9",
   "metadata": {},
   "outputs": [],
   "source": [
    "import tweepy\n",
    "#import json"
   ]
  },
  {
   "cell_type": "code",
   "execution_count": 16,
   "id": "10523071-7d2c-4e14-aa55-5a102eeff596",
   "metadata": {},
   "outputs": [],
   "source": [
    "auth = tweepy.OAuth2BearerHandler('AAAAAAAAAAAAAAAAAAAAAEQnZgEAAAAAX9TsuDwvnbgMmKlFn%2BYAS05znng%3DFXYgB4FE0QXKlnuXEOx2MNmKZSwFC8GVl3DrqfCGN4VHHHX8lH')\n",
    "api = tweepy.API(auth)"
   ]
  },
  {
   "cell_type": "code",
   "execution_count": 17,
   "id": "39315795-192c-4433-85d8-14e3afd4071b",
   "metadata": {},
   "outputs": [],
   "source": [
    "user = api.get_user(screen_name='broncos')"
   ]
  },
  {
   "cell_type": "code",
   "execution_count": 20,
   "id": "d9de0e81-ce52-470e-b48d-e564c8d007eb",
   "metadata": {},
   "outputs": [
    {
     "ename": "TypeError",
     "evalue": "the JSON object must be str, bytes or bytearray, not 'User'",
     "output_type": "error",
     "traceback": [
      "\u001b[0;31m---------------------------------------------------------------------------\u001b[0m",
      "\u001b[0;31mTypeError\u001b[0m                                 Traceback (most recent call last)",
      "\u001b[0;32m<ipython-input-20-cf3b719f8c1a>\u001b[0m in \u001b[0;36m<module>\u001b[0;34m\u001b[0m\n\u001b[0;32m----> 1\u001b[0;31m \u001b[0mdata\u001b[0m \u001b[0;34m=\u001b[0m \u001b[0mjson\u001b[0m\u001b[0;34m.\u001b[0m\u001b[0mloads\u001b[0m\u001b[0;34m(\u001b[0m\u001b[0muser\u001b[0m\u001b[0;34m)\u001b[0m\u001b[0;34m\u001b[0m\u001b[0;34m\u001b[0m\u001b[0m\n\u001b[0m",
      "\u001b[0;32m~/opt/anaconda3/envs/DATA620/lib/python3.6/json/__init__.py\u001b[0m in \u001b[0;36mloads\u001b[0;34m(s, encoding, cls, object_hook, parse_float, parse_int, parse_constant, object_pairs_hook, **kw)\u001b[0m\n\u001b[1;32m    346\u001b[0m         \u001b[0;32mif\u001b[0m \u001b[0;32mnot\u001b[0m \u001b[0misinstance\u001b[0m\u001b[0;34m(\u001b[0m\u001b[0ms\u001b[0m\u001b[0;34m,\u001b[0m \u001b[0;34m(\u001b[0m\u001b[0mbytes\u001b[0m\u001b[0;34m,\u001b[0m \u001b[0mbytearray\u001b[0m\u001b[0;34m)\u001b[0m\u001b[0;34m)\u001b[0m\u001b[0;34m:\u001b[0m\u001b[0;34m\u001b[0m\u001b[0;34m\u001b[0m\u001b[0m\n\u001b[1;32m    347\u001b[0m             raise TypeError('the JSON object must be str, bytes or bytearray, '\n\u001b[0;32m--> 348\u001b[0;31m                             'not {!r}'.format(s.__class__.__name__))\n\u001b[0m\u001b[1;32m    349\u001b[0m         \u001b[0ms\u001b[0m \u001b[0;34m=\u001b[0m \u001b[0ms\u001b[0m\u001b[0;34m.\u001b[0m\u001b[0mdecode\u001b[0m\u001b[0;34m(\u001b[0m\u001b[0mdetect_encoding\u001b[0m\u001b[0;34m(\u001b[0m\u001b[0ms\u001b[0m\u001b[0;34m)\u001b[0m\u001b[0;34m,\u001b[0m \u001b[0;34m'surrogatepass'\u001b[0m\u001b[0;34m)\u001b[0m\u001b[0;34m\u001b[0m\u001b[0;34m\u001b[0m\u001b[0m\n\u001b[1;32m    350\u001b[0m \u001b[0;34m\u001b[0m\u001b[0m\n",
      "\u001b[0;31mTypeError\u001b[0m: the JSON object must be str, bytes or bytearray, not 'User'"
     ]
    }
   ],
   "source": [
    "print(user.)"
   ]
  },
  {
   "cell_type": "code",
   "execution_count": null,
   "id": "c9d83251-16b6-47f3-9949-d4ad87dfb274",
   "metadata": {},
   "outputs": [],
   "source": []
  },
  {
   "cell_type": "code",
   "execution_count": null,
   "id": "56d3f99c-69a4-46e8-a433-3d9a6ae6bcf1",
   "metadata": {},
   "outputs": [],
   "source": []
  },
  {
   "cell_type": "code",
   "execution_count": 10,
   "id": "088287d0-27e9-4c5c-b376-7a533c38927c",
   "metadata": {},
   "outputs": [],
   "source": [
    "client = tweepy.Client('AAAAAAAAAAAAAAAAAAAAAEQnZgEAAAAAX9TsuDwvnbgMmKlFn%2BYAS05znng%3DFXYgB4FE0QXKlnuXEOx2MNmKZSwFC8GVl3DrqfCGN4VHHHX8lH')"
   ]
  },
  {
   "cell_type": "code",
   "execution_count": 15,
   "id": "dbddf075-7f0c-4fed-9a7e-13fa109cbdbd",
   "metadata": {},
   "outputs": [
    {
     "data": {
      "text/plain": [
       "Response(data=[<User id=769000284089638912 name=rollin hu username=rollrhu>, <User id=19026735 name=Aaron Huertas username=aaronhuertas>, <User id=17163209 name=ruth ozeki username=ozekiland>, <User id=227802735 name=Dom White username=DomWh1te>, <User id=467844200 name=Caleb Watney username=calebwatney>, <User id=866943906180726784 name=Made in Cosmos ✨ username=made_in_cosmos>, <User id=2281473800 name=Tamara Winter username=_TamaraWinter>, <User id=26001948 name=Aaron Strauss username=aaronstrauss>, <User id=223197526 name=Dan Wang username=danwwang>, <User id=734741044257001473 name=Sunaura Taylor username=sunaura_taylor>], includes={}, errors=[], meta={'result_count': 10, 'next_token': 'TIIS8IJE2VH1EZZZ'})"
      ]
     },
     "execution_count": 15,
     "metadata": {},
     "output_type": "execute_result"
    }
   ],
   "source": [
    "client.get_users_following(id=18622869,max_results=10)"
   ]
  },
  {
   "cell_type": "code",
   "execution_count": null,
   "id": "501af831-95c4-40b4-9f4e-870ae8b545c2",
   "metadata": {},
   "outputs": [],
   "source": []
  },
  {
   "cell_type": "code",
   "execution_count": null,
   "id": "d63d907c-66b6-4992-911f-3516e32f29d6",
   "metadata": {},
   "outputs": [],
   "source": []
  },
  {
   "cell_type": "code",
   "execution_count": 13,
   "id": "915169f7-da54-453f-ace5-39c78d6ebaf3",
   "metadata": {},
   "outputs": [
    {
     "data": {
      "text/plain": [
       "Response(data=[<Tweet id=1496294745328472065 text=@MiraSorvino Very true! Make peace, rely on your support system. Move on and enjoy life’s gift. Hope you are having a great day!>, <Tweet id=1496255441172582409 text=@MiraSorvino @Frances_Fisher She was an absolute stunner in Titanic. 🥰 https://t.co/zE4kFGOB5E>, <Tweet id=1495979754503168003 text=@GuadaL00py @MiraSorvino @LisaKudrow ❤️👍🏼 https://t.co/2tF18ykOsW>, <Tweet id=1496004017511702528 text=@MiraSorvino I love it! Definitely need a businesswoman special. 😊😊 https://t.co/hhZPXWZMLm>, <Tweet id=1496008311463948289 text=@MiraSorvino Oh yes, totally. Remember they invented post it’s!>, <Tweet id=1496010027181965312 text=@MiraSorvino They would be the most fashionable presidents to date. 🥰>, <Tweet id=1496053836418805761 text=@MiraSorvino https://t.co/y2kwSPkWYn>, <Tweet id=1496064308865912833 text=The biggest shout outs to these legends, make sure you follow them, they are truly wonderful humans @MichAckerley @JoBlytheTV @shiner_sam @sophiegreenart @SteveBartlettSC @Shaughna_P @FionaMurden @driverminnie @MiraSorvino @ignatius_sancho @TheVeronaRose @CHIMPSINSOCKS>, <Tweet id=1496078577049251845 text=@eliistender10 @MichAckerley @JoBlytheTV @shiner_sam @sophiegreenart @SteveBartlettSC @Shaughna_P @FionaMurden @driverminnie @MiraSorvino @ignatius_sancho @TheVeronaRose @CHIMPSINSOCKS And you @eliistender10 the kindest man on Twitter ❤️❤️❤️>, <Tweet id=1496080196356784137 text=While surfing channels last night, @MiraSorvino was on 3 out of 5 channels, The Replacement Killers, Romy and Michelle and an advertisement for \"Shining Vale\". So, I chose to go back and forth between the RKs and R&amp;M'sHSR. I  had comedy &amp; drama! Can't wait for Shining Vale!>, <Tweet id=1496123998878552071 text=@MiraSorvino I’d settle for a 30 year high school reunion movie. Romy &amp; Michelle as successful business women and mothers.>, <Tweet id=1496146569032314891 text=@MiraSorvino \"Poems do not stop wars...but they can instill in the heart of man the hope of awakening us in a world of peace, embracing those who hated us...\" https://t.co/VYdlhTS1Yo>, <Tweet id=1496195997042626563 text=@MiraSorvino Yes!!!>, <Tweet id=1496187895824396288 text=My romy heart. @MiraSorvino literally being a bestie out here. So much love for you, queen 🤍 Can’t wait for you too in #ShiningVale! https://t.co/yBxkiLePpB>, <Tweet id=1496250564925353985 text=@MiraSorvino @Frances_Fisher Isn’t she! I always love 💕 seeing her in movies 🎥>, <Tweet id=1496029654129557507 text=Today's date is really quite satisfying https://t.co/OLnbYCc7G0>, <Tweet id=1496026905543426049 text=For anyone who needs to hear this today, we don't \"get over\" the most difficult moments in our lives, we carry them and live alongside them. But we can also make progress despite how they've affected us.>, <Tweet id=1496176276155076610 text=@ShiningVale im excited and compelled !>, <Tweet id=1496176702459985920 text=@ShiningVale the mose beautiful ghost ever!!>, <Tweet id=1496175455283519488 text=Rosemary might be dead but this photo gives me life #ShiningVale https://t.co/EFRPzpcO93>, <Tweet id=1496180693726121996 text=#NewProfilePic https://t.co/hihS84RXwY>, <Tweet id=1495868881038098441 text=@MiraSorvino In my fake life, I'm Secretary of Folding Scarves.>, <Tweet id=1495916457733107713 text=@MiraSorvino Tonight’s classic horror movie, Mimic, staring the immaculately talented Mrs. Mira Sorvino!>, <Tweet id=1495915139417387008 text=@MiraSorvino Truthfully, they could do a better job than the last president.>, <Tweet id=1495852932172062724 text=@MiraSorvino ❤️🥰 https://t.co/IM3F9FtpC7>, <Tweet id=1495854877834108934 text=@MiraSorvino One of the cutest of all poisonous creatures.>, <Tweet id=1495861410605285379 text=Celebrating Presidents' Day with Romy &amp; Michele! 💖\n",
       "\n",
       "@MiraSorvino @LisaKudrow https://t.co/2v2fVEVFpu>, <Tweet id=1495677170005413888 text=Grace Kelly in a publicity still for Rear Window (1954) https://t.co/e8jb2078rG>, <Tweet id=1495768246611595274 text=This targeted Pornhub ad was placed by their advertising arm called @trafficjunky on a video of a confirmed pre-pubescent child tied down being raped. \n",
       "\n",
       "The ad says “Warning: delete your history” \n",
       "\n",
       "@Visa / @Mastercard process &amp; profit from these Pornhub ad buys. \n",
       "\n",
       "#Traffickinghub https://t.co/qNl6Y3pI2j>, <Tweet id=1495851637772009473 text=Putin has lists of Ukrainian dissidents who will be killed or sent to camps, and this is the kind of fascist thug the GOP applauds.>, <Tweet id=1495728046862651401 text=When you are banned from Twitter, Facebook and YouTube so you start your own platform. No truth will be told on Donald’s social app run by Devious Nunes.>, <Tweet id=1495861539529805827 text=Just in case it wasn’t made clear by her multitude of appearances on Fox Propaganda to help GQPers attack Democrats, Tulsi Gabbard attending CPAC which is the equivalent of a KKK Nazi MAGA hate rally should be proof enough what a fraud she’s always been. Glad she’s exposed.>, <Tweet id=1495650233644113920 text=Pornhub placed this ad on a video of a confirmed underage child being violently raped. \n",
       "\n",
       "The ad says “delete your history” \n",
       "\n",
       "Pornhub knows exactly who they are targeting with these ad placements.  @Visa and @Mastercard process and profit from these ads. #Traffickinghub https://t.co/uTkUTGTI0p>, <Tweet id=1495606012136800257 text=As we were in line to board our flight, a guy was pushing to the front. I politely said, “excuse me, that’s my husband just ahead. Please be respectful and stop forcing your way in front of me.” Said without a trace of attitude. \n",
       "\n",
       "His response: to call me a CUNT. \n",
       "\n",
       "WTAF 😡🤯!>, <Tweet id=1495671341739126785 text=This bird is called \"The Sagittarius\" and can only be found in Africa. And yes, it has real eyelashes! https://t.co/b9LsabS2t5>, <Tweet id=1495821631855505410 text=Brother #MalcolmX [el-Hajj Malik el-Shabazz] was assassinated 57 years ago today. \n",
       "\n",
       "I encourage you to learn about him from him via ‘The Autobiography of Malcolm X.’\n",
       "\n",
       "Thinking of the dear daughters of Brother Malcolm and Dr. Betty Shabazz. https://t.co/QnIGN1CQU4>, <Tweet id=1495828474417790976 text=Jesus never said a word about\n",
       "homosexuality. In all of his\n",
       "teachings about multiple\n",
       "things - he never said that gay\n",
       "people should be condemned.\n",
       "I personally think it is very fine\n",
       "for gay people to be married in\n",
       "civil ceremonies.\n",
       "Jimmy Carter>, <Tweet id=1495664076931883014 text=Huge thank you to those few people who take the time and effort to reach out and ask how I'm doing every now and again, it truly means the world.>, <Tweet id=1495813067103346696 text=The Phelps family is just trying to get their shit together. #ShiningVale https://t.co/ZxmaOTHY3T>, <Tweet id=1495783886437105664 text=I miss you, Uncle John. Remembering you with love and gratitude on your birthday. https://t.co/hG8u1UX890>, <Tweet id=1495845327630319617 text=Found this cleaning out my desk. How far we have fallen. More work than ever to be done. https://t.co/58Zar8t3RF>, <Tweet id=1495793794477961217 text=Some of the most beautiful messages, acts of kindness, compassion and empathy have not come from loved ones or close friends, but from strangers>, <Tweet id=1495844774020009993 text=Grief has given me a surplus of love from the ones no longer here, now I try to give as much of what is left to as many people as I can>, <Tweet id=1495504687939866629 text=@eliistender10 This our 'puggle' https://t.co/YSs4Zjm5hW>, <Tweet id=1495805767156486149 text=For anyone that has ever been insecure about their weight—or realistically, any aspect of themselves, or their bodies—dramedy #Butter might be the perfect movie for you. @alexkersting104 @themoviebutter @MiraSorvino  https://t.co/NxKjIiEFr3>, <Tweet id=1494956879029719040 text=Lots of love today to some wonderful folks @ReshminTV @emmagannon @GemmaSherlock2 @NatashaKLondon @AliyaNazki @AndersonNatalie @xenatheworrier @rhysiedarby @SarahLidsActor @edibow @lorrainemking @adamhillscomedy @MiraSorvino>, <Tweet id=1494969034017808386 text=@eliistender10 @ReshminTV @emmagannon @NatashaKLondon @AliyaNazki @AndersonNatalie @xenatheworrier @rhysiedarby @SarahLidsActor @edibow @lorrainemking @adamhillscomedy @MiraSorvino Thank you Giles!>, <Tweet id=1494334565036425216 text=Lest we forget the time when fascist bobblehead dimwit Laura Ingraham gave the Nazi salute at the RNC. https://t.co/DaDAShEFqV>, <Tweet id=1494393134083682304 text=@MiraSorvino @ShiningVale @STARZ Trust me. I'm just a little bit crazy 😜!! I can't imagine anyone who has seen the trailers, who's even a little bit crazy just like me 🤪 won't watch Shining Vale.>, <Tweet id=1436039349645176833 text=Wrapping #ShiningVale today and have had the joy of being the tv BFF of one of my favorite FRIENDS. Can’t wait for you to see the show coming soon! https://t.co/JyRAgoZ9sK>, <Tweet id=1489735524004761601 text=“When was the last time a ghost burned you with a cigarette?” Okay, the man makes a point. #ShiningVale https://t.co/nKXFkio8uT>, <Tweet id=1494363514571350028 text=Laughs. Screams. A ghost living in the closet... Just your average American family, really. #ShiningVale https://t.co/Rkb5vzJvjO>, <Tweet id=1494020869206724612 text=@amandadeibert, @MiraSorvino, @DrMelodyMcCloud This story is haunting me, more so after i saw the video. Police have found a girl who was reported missing two years ago in a room hidden under a staircase of a home in new york state. \n",
       "Paislee Shultis was 4 when she was last seen>, <Tweet id=1494132892284379137 text=@kevin_makely @MiraSorvino @netflix @ParadeMagazine Badlands is the BEST western on Netflix ever. I’m a huge Kevin Makely fan!! Can’t wait see what is next!!! Love me some Kevin!!!♥️♥️♥️>, <Tweet id=1494172990921076737 text=@MiraSorvino @ShiningVale @dailyblastlive @STARZ Omg, I didn’t even realize that was you in the preview!!! Now I’m even more excited!!! As much as I don’t want time to go by so fast, I just wanna see this show!!! 🤩🤩🤩>, <Tweet id=1493777954224017412 text=@MiraSorvino Yes Mira!>, <Tweet id=1493778474443501569 text=@MiraSorvino We pray for you and the human trafficking victims every Monday night at my church! Happy for your latest success, too! Awesome!☺️>, <Tweet id=1493806246692065285 text=@MiraSorvino She’s spooky!!>, <Tweet id=1493967139828645890 text=@MiraSorvino Cannot wait to see this Mira!>, <Tweet id=1493775519812251650 text=@MiraSorvino https://t.co/lkeyQvSjPQ>, <Tweet id=1493775599218802695 text=@MiraSorvino resubscribed just for this>, <Tweet id=1491438432870178827 text=Shining Vale - Official Trailer (2022) Courteney Cox, Greg Kinnear, Thriller Series #ShiningVale https://t.co/8kLdt1m5Io>, <Tweet id=1491430033168437250 text=Here’s the poster for Shining Vale. #TheHorrorReturns #TheHorrorReturnsPodcast #THRPodcastNetwork #Horror #HorrorMovies #HorrorFilms #HorrorTelevision #HorrorSeries #HorrorFamily #HorrorCommunity #HorrorPodcast #MutantFam #ShiningVale #STARZ https://t.co/rTPhy9ObYt>, <Tweet id=1491358555202781185 text=“i was so excited to work with courteney. it’s an incredible role for her. she’s AMAZING on this show” very excited to see them acting together 🤍 #ShiningVale https://t.co/zPELeVIDVT>, <Tweet id=1492272727465422849 text=Hey it's 5:00 somewhere... #ShiningVale https://t.co/6u44MsRBoH>, <Tweet id=1491426739792367616 text=This house is to die for. 👻 Welcome to #ShiningVale, premiering 6th March on #STARZPLAY. https://t.co/voyOomG395>, <Tweet id=1493092901668388864 text=Feels like The Shining meets American Horror Story but more funny. I love it. \n",
       "\n",
       "#ShiningVale https://t.co/LPEdk12Ypq>, <Tweet id=1492478260692795401 text=Courteney Cox references #Scream twice in 1 minute promoting her new show #ShiningVale \n",
       "\n",
       "We need to support @ShiningVale!! It looks like an amazing TV show, &amp; this proves what I have been saying since July: #ShiningVale &amp; #Scream can help each other over the next few years. https://t.co/EyG7W0qsgN>, <Tweet id=1491897158576058371 text=Me planning on getting Starz next month just so I can watch Courteney Cox in #ShiningVale https://t.co/blWDOEaj5Y>, <Tweet id=1493650921792077824 text=Few more sleeps till we get to meet Courteney Cox as Patricia Phelps on #ShiningVale! https://t.co/7AhRxjdXcV>, <Tweet id=1493669551904411649 text=Pat's taking the concept of a ghost writer to a new level. #ShiningVale https://t.co/iIlJwADkCy>, <Tweet id=1493660145116594176 text=@MiraSorvino It has been a rough couple of weeks but it is important at times to rake a moment, just breathe and be grateful for the moment.>, <Tweet id=1493433453060104201 text=I feel so sorry for kim k and her children like this is trauma>, <Tweet id=1493379072939941888 text=I kid you not, I just had this exact same discussion last night.\n",
       "\n",
       "My neighbor: “After all this time, you’re still talking about Kaepernick’s knee?”\n",
       "\n",
       "Me: “After all this time, you’re still refusing to talk about why he took it, or why he’s still being punished for taking it?” https://t.co/SNz0ErJ4I7>, <Tweet id=1493262228635754497 text=My Down Syndrome brother in law took a knee during yesterday’s Super Bowl ceremony.  Colin Kaepernick has touched more hearts than he could even imagine.>, <Tweet id=1493601821335728134 text=@amandadeibert, @MiraSorvino Rebecca singing at Ebenezer Baptist Church at an MLK Service with the Church and Temple choirs. https://t.co/tpEO9UQLhY>, <Tweet id=1493345760892444673 text=@MiraSorvino Mira Wow 😱 romy and michele i love it!!>, <Tweet id=1493331888345600000 text=@MiraSorvino @ShiningVale @STARZ Looking forward to this. Unfortunately in Australia we seem to be behind the times receiving great viewing>, <Tweet id=1493332564215734274 text=@MiraSorvino Elvis death shook the world>, <Tweet id=1493336768074051584 text=@MiraSorvino Happy Valentine's Day, Mira🌹\n",
       "\n",
       "Thank you for doing no harm, taking no shit and affecting positive change🙏🏾\n",
       "\n",
       "My character is wondering, 'Would you like the 4-course sweethearts menu, OR the 8-course eternal love?'💗💘💕💖💕💘💗https://t.co/JRtw4SJ9lX>, <Tweet id=1493563348637696002 text=I freakin love The  Replacement Killers movie.I've watched it a dozen times &amp; firmly convinced @MiraSorvino is one bad (in a good way) lady.>, <Tweet id=1493419243047632896 text=@MiraSorvino \n",
       "My Valentine's gift to you!\n",
       "You're definitely an incredibly \n",
       "talented, beautiful woman!!!!\n",
       "You're so very, very, VERY special!\n",
       "I'm thankful that such an AMAZING\n",
       "woman like you exists in this world! ❤️ https://t.co/tymIKQE1O1>, <Tweet id=1479544748507553795 text=Travis McMichael, the gunman who murdered Ahmaud Arbery, sentenced to LIFE WITHOUT the possibility of parole.>, <Tweet id=1481270435551584258 text=BREAKING: A NY federal judge has denied #PrinceAndrew’s motion to dismiss accuser Virginia Giuffre's civil lawsuit https://t.co/Ajl6tKdGEE>, <Tweet id=1493304476010168323 text=@MiraSorvino @MMexville Awww!!! So adorable!!! Happy Valentine's Day beautiful 👑 !!!>, <Tweet id=1493317207606312960 text=@MiraSorvino @MMexville Life is beautiful if you surround yourself with love>, <Tweet id=1493305627560525825 text=@MiraSorvino @MMexville Love should be so uncomplicated!💕>, <Tweet id=1493331912059932673 text=@MiraSorvino @MiraSorvino you are so kind and very special to me and this world, thank you for everything and I wish you and your husband a loving and tender Valentine's Day ❤✌>, <Tweet id=1492986545539883010 text=@MiraSorvino Thank you for your kind words, means a lot ❤️>, <Tweet id=1493074209886674945 text=@MiraSorvino \"Romy and Michele's High School Union\" 📽  is one of the top-5 cult, nostalgia, comedy movies of all time. An obvious ⭐⭐⭐⭐⭐ review. Lisa Kudrow's and Mira Sorvino's dancing scenes are the best ever.>, <Tweet id=1493095460051034114 text=@MiraSorvino                         Beardie baths and weigh-ins\n",
       "\n",
       "Creme Brûlée- 5.8 oz.\n",
       "Clementine- 7.6 oz.\n",
       "Muffin- 14.9 oz.         (And Creme and Muffin are pals)>, <Tweet id=1493096009848823808 text=@MiraSorvino First Valentine’s Day in 25+ years without Rebecca by my side. I would think you and Christopher try to make every day Valentine’s Day and a love song.  As it should be.>, <Tweet id=1493106187885232128 text=@MiraSorvino I absolutely love Romy and Michelle's high school reunion! The best ever! https://t.co/Tz5ekRUi7q>, <Tweet id=1493144658138046464 text=@MiraSorvino @BootstrapCook She's great isn't she? 😊>, <Tweet id=1493063058226393092 text=@MiraSorvino Hope all the Galentines who went out for lunch today got a Business Woman’s Special. #GalentinesDay https://t.co/IBHaspMcIM>, <Tweet id=1493211405629235201 text=@MiraSorvino nice ! ☮️💚 bisous!>, <Tweet id=1493262523532992513 text=https://t.co/IiXaI9xZlF\n",
       "\n",
       "May the heart unite us, the spirit guide us and love be our progress!\n",
       "Happy valentines day world\n",
       "share peace and love!\n",
       "\n",
       "@DebbieRochon @MiraSorvino @katjaherbers @NancySinatra @BerniceKing @RoArquette @SarahKSilverman @Frances_Fisher @ThandiweNewton @AOC https://t.co/cE6a8OiJEq>, <Tweet id=1493272859136962564 text=@MiraSorvino Mira.. https://t.co/Uaoyhblq3p>, <Tweet id=1493294303380226049 text=@MiraSorvino Wow! And Happy Valentines Day to you and yours! May your days always be filled with love, peace, health and compassion!>, <Tweet id=1493294657949868034 text=@MiraSorvino Wow! And Happy Valentine's Day to you and yours. May your days be filled with love, health, peace and compassion!>], includes={}, errors=[], meta={'result_count': 100, 'next_token': '7140dibdnow9c7btw480xvbbu42kbkkamtbe91zefu0xd'})"
      ]
     },
     "execution_count": 13,
     "metadata": {},
     "output_type": "execute_result"
    }
   ],
   "source": [
    "client.get_liked_tweets(id='613088225')"
   ]
  },
  {
   "cell_type": "code",
   "execution_count": null,
   "id": "5710a655-14f3-47bc-a699-ff3d53574749",
   "metadata": {},
   "outputs": [],
   "source": []
  },
  {
   "cell_type": "code",
   "execution_count": null,
   "id": "269b70bd-44a9-40c7-a959-e9956a7a7757",
   "metadata": {},
   "outputs": [],
   "source": []
  },
  {
   "cell_type": "code",
   "execution_count": 8,
   "id": "c7c1bfb0-b88c-4f37-9b72-18146481e0c3",
   "metadata": {},
   "outputs": [],
   "source": [
    "###########################\n",
    "#\n",
    "#  Import Tweepy\n",
    "#\n",
    "###########################"
   ]
  },
  {
   "cell_type": "code",
   "execution_count": null,
   "id": "327f8acf-f15c-402b-aabf-4feb4aa37a85",
   "metadata": {},
   "outputs": [],
   "source": []
  },
  {
   "cell_type": "code",
   "execution_count": null,
   "id": "2b3fabe4-2e68-492a-a63b-f83624012113",
   "metadata": {},
   "outputs": [],
   "source": []
  },
  {
   "cell_type": "code",
   "execution_count": null,
   "id": "fb875306-739b-4b77-9a17-ef9a49b698e2",
   "metadata": {},
   "outputs": [],
   "source": []
  },
  {
   "cell_type": "code",
   "execution_count": null,
   "id": "684c427d-dd8d-42f4-ac0f-543735a1d24c",
   "metadata": {},
   "outputs": [],
   "source": []
  }
 ],
 "metadata": {
  "kernelspec": {
   "display_name": "Python 3",
   "language": "python",
   "name": "python3"
  },
  "language_info": {
   "codemirror_mode": {
    "name": "ipython",
    "version": 3
   },
   "file_extension": ".py",
   "mimetype": "text/x-python",
   "name": "python",
   "nbconvert_exporter": "python",
   "pygments_lexer": "ipython3",
   "version": "3.6.13"
  }
 },
 "nbformat": 4,
 "nbformat_minor": 5
}
